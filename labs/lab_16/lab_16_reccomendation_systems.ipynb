{
 "cells": [
  {
   "cell_type": "markdown",
   "metadata": {},
   "source": [
    "# GA Data Science 18 (DAT18) - Lab 16\n",
    "\n",
    "### Recommendation Systems\n",
    "\n",
    "### Today\n",
    "\n",
    "1. Simple similarity based recommendation system\n",
    "2. Recsys"
   ]
  },
  {
   "cell_type": "markdown",
   "metadata": {},
   "source": [
    "## Similarity based Recommendation System: Beers\n",
    "\n",
    "\n",
    "Let's build a recommendation system to recommend types of beers based on user reviews"
   ]
  },
  {
   "cell_type": "markdown",
   "metadata": {},
   "source": [
    "Usual imports (numpy, pandas)"
   ]
  },
  {
   "cell_type": "code",
   "execution_count": 1,
   "metadata": {
    "collapsed": false
   },
   "outputs": [],
   "source": [
    "import pandas as pd\n",
    "import numpy as np"
   ]
  },
  {
   "cell_type": "markdown",
   "metadata": {},
   "source": [
    "First of all let's get the data"
   ]
  },
  {
   "cell_type": "code",
   "execution_count": 2,
   "metadata": {
    "collapsed": false
   },
   "outputs": [
    {
     "name": "stdout",
     "output_type": "stream",
     "text": [
      "  % Total    % Received % Xferd  Average Speed   Time    Time     Time  Current\n",
      "                                 Dload  Upload   Total   Spent    Left  Speed\n",
      "100 27.3M  100 27.3M    0     0  2495k      0  0:00:11  0:00:11 --:--:-- 4795k\n"
     ]
    }
   ],
   "source": [
    "! curl -O https://s3.amazonaws.com/demo-datasets/beer_reviews.tar.gz"
   ]
  },
  {
   "cell_type": "markdown",
   "metadata": {},
   "source": [
    "Import data in a pandas dataframe called \"allbeers\". Use the compression keyword"
   ]
  },
  {
   "cell_type": "code",
   "execution_count": 5,
   "metadata": {
    "collapsed": false
   },
   "outputs": [],
   "source": [
    "# allbeers = pd.read_csv(\"beer_reviews.tar.gz\", compression='gzip')\n",
    "#If the compression fails - expand the compressed folder and open with:\n",
    "allbeers = pd.read_csv(\"beer_reviews/beer_reviews.csv\")"
   ]
  },
  {
   "cell_type": "markdown",
   "metadata": {},
   "source": [
    "Let's look at the data"
   ]
  },
  {
   "cell_type": "code",
   "execution_count": 6,
   "metadata": {
    "collapsed": false
   },
   "outputs": [
    {
     "data": {
      "text/html": [
       "<div>\n",
       "<table border=\"1\" class=\"dataframe\">\n",
       "  <thead>\n",
       "    <tr style=\"text-align: right;\">\n",
       "      <th></th>\n",
       "      <th>brewery_id</th>\n",
       "      <th>brewery_name</th>\n",
       "      <th>review_time</th>\n",
       "      <th>review_overall</th>\n",
       "      <th>review_aroma</th>\n",
       "      <th>review_appearance</th>\n",
       "      <th>review_profilename</th>\n",
       "      <th>beer_style</th>\n",
       "      <th>review_palate</th>\n",
       "      <th>review_taste</th>\n",
       "      <th>beer_name</th>\n",
       "      <th>beer_abv</th>\n",
       "      <th>beer_beerid</th>\n",
       "    </tr>\n",
       "  </thead>\n",
       "  <tbody>\n",
       "    <tr>\n",
       "      <th>0</th>\n",
       "      <td>10325</td>\n",
       "      <td>Vecchio Birraio</td>\n",
       "      <td>1234817823</td>\n",
       "      <td>1.5</td>\n",
       "      <td>2.0</td>\n",
       "      <td>2.5</td>\n",
       "      <td>stcules</td>\n",
       "      <td>Hefeweizen</td>\n",
       "      <td>1.5</td>\n",
       "      <td>1.5</td>\n",
       "      <td>Sausa Weizen</td>\n",
       "      <td>5.0</td>\n",
       "      <td>47986</td>\n",
       "    </tr>\n",
       "    <tr>\n",
       "      <th>1</th>\n",
       "      <td>10325</td>\n",
       "      <td>Vecchio Birraio</td>\n",
       "      <td>1235915097</td>\n",
       "      <td>3.0</td>\n",
       "      <td>2.5</td>\n",
       "      <td>3.0</td>\n",
       "      <td>stcules</td>\n",
       "      <td>English Strong Ale</td>\n",
       "      <td>3.0</td>\n",
       "      <td>3.0</td>\n",
       "      <td>Red Moon</td>\n",
       "      <td>6.2</td>\n",
       "      <td>48213</td>\n",
       "    </tr>\n",
       "    <tr>\n",
       "      <th>2</th>\n",
       "      <td>10325</td>\n",
       "      <td>Vecchio Birraio</td>\n",
       "      <td>1235916604</td>\n",
       "      <td>3.0</td>\n",
       "      <td>2.5</td>\n",
       "      <td>3.0</td>\n",
       "      <td>stcules</td>\n",
       "      <td>Foreign / Export Stout</td>\n",
       "      <td>3.0</td>\n",
       "      <td>3.0</td>\n",
       "      <td>Black Horse Black Beer</td>\n",
       "      <td>6.5</td>\n",
       "      <td>48215</td>\n",
       "    </tr>\n",
       "    <tr>\n",
       "      <th>3</th>\n",
       "      <td>10325</td>\n",
       "      <td>Vecchio Birraio</td>\n",
       "      <td>1234725145</td>\n",
       "      <td>3.0</td>\n",
       "      <td>3.0</td>\n",
       "      <td>3.5</td>\n",
       "      <td>stcules</td>\n",
       "      <td>German Pilsener</td>\n",
       "      <td>2.5</td>\n",
       "      <td>3.0</td>\n",
       "      <td>Sausa Pils</td>\n",
       "      <td>5.0</td>\n",
       "      <td>47969</td>\n",
       "    </tr>\n",
       "    <tr>\n",
       "      <th>4</th>\n",
       "      <td>1075</td>\n",
       "      <td>Caldera Brewing Company</td>\n",
       "      <td>1293735206</td>\n",
       "      <td>4.0</td>\n",
       "      <td>4.5</td>\n",
       "      <td>4.0</td>\n",
       "      <td>johnmichaelsen</td>\n",
       "      <td>American Double / Imperial IPA</td>\n",
       "      <td>4.0</td>\n",
       "      <td>4.5</td>\n",
       "      <td>Cauldron DIPA</td>\n",
       "      <td>7.7</td>\n",
       "      <td>64883</td>\n",
       "    </tr>\n",
       "  </tbody>\n",
       "</table>\n",
       "</div>"
      ],
      "text/plain": [
       "   brewery_id             brewery_name  review_time  review_overall  \\\n",
       "0       10325          Vecchio Birraio   1234817823             1.5   \n",
       "1       10325          Vecchio Birraio   1235915097             3.0   \n",
       "2       10325          Vecchio Birraio   1235916604             3.0   \n",
       "3       10325          Vecchio Birraio   1234725145             3.0   \n",
       "4        1075  Caldera Brewing Company   1293735206             4.0   \n",
       "\n",
       "   review_aroma  review_appearance review_profilename  \\\n",
       "0           2.0                2.5            stcules   \n",
       "1           2.5                3.0            stcules   \n",
       "2           2.5                3.0            stcules   \n",
       "3           3.0                3.5            stcules   \n",
       "4           4.5                4.0     johnmichaelsen   \n",
       "\n",
       "                       beer_style  review_palate  review_taste  \\\n",
       "0                      Hefeweizen            1.5           1.5   \n",
       "1              English Strong Ale            3.0           3.0   \n",
       "2          Foreign / Export Stout            3.0           3.0   \n",
       "3                 German Pilsener            2.5           3.0   \n",
       "4  American Double / Imperial IPA            4.0           4.5   \n",
       "\n",
       "                beer_name  beer_abv  beer_beerid  \n",
       "0            Sausa Weizen       5.0        47986  \n",
       "1                Red Moon       6.2        48213  \n",
       "2  Black Horse Black Beer       6.5        48215  \n",
       "3              Sausa Pils       5.0        47969  \n",
       "4           Cauldron DIPA       7.7        64883  "
      ]
     },
     "execution_count": 6,
     "metadata": {},
     "output_type": "execute_result"
    }
   ],
   "source": [
    "allbeers.head()"
   ]
  },
  {
   "cell_type": "markdown",
   "metadata": {},
   "source": [
    "Let's restrict this to the top 250 beers. Use the value_counts() method select the top 250 beers.\n",
    "Assign the selected beers to a dataset called df"
   ]
  },
  {
   "cell_type": "code",
   "execution_count": null,
   "metadata": {
    "collapsed": true
   },
   "outputs": [],
   "source": []
  },
  {
   "cell_type": "code",
   "execution_count": 9,
   "metadata": {
    "collapsed": false
   },
   "outputs": [
    {
     "data": {
      "text/plain": [
       "90 Minute IPA                                  3290\n",
       "India Pale Ale                                 3130\n",
       "Old Rasputin Russian Imperial Stout            3111\n",
       "Sierra Nevada Celebration Ale                  3000\n",
       "Two Hearted Ale                                2728\n",
       "Stone Ruination IPA                            2704\n",
       "Arrogant Bastard Ale                           2704\n",
       "Sierra Nevada Pale Ale                         2587\n",
       "Stone IPA (India Pale Ale)                     2575\n",
       "Pliny The Elder                                2527\n",
       "Founders Breakfast Stout                       2502\n",
       "Pale Ale                                       2500\n",
       "Sierra Nevada Bigfoot Barleywine Style Ale     2492\n",
       "La Fin Du Monde                                2483\n",
       "60 Minute IPA                                  2475\n",
       "Storm King Stout                               2452\n",
       "Duvel                                          2450\n",
       "Brooklyn Black Chocolate Stout                 2447\n",
       "Bell's Hopslam Ale                             2443\n",
       "Samuel Adams Boston Lager                      2418\n",
       "Stone Imperial Russian Stout                   2329\n",
       "HopDevil Ale                                   2302\n",
       "Chocolate Stout                                2292\n",
       "Imperial Stout                                 2273\n",
       "Young's Double Chocolate Stout                 2257\n",
       "Dead Guy Ale                                   2234\n",
       "St. Bernardus Abt 12                           2217\n",
       "Guinness Draught                               2210\n",
       "Trappistes Rochefort 10                        2170\n",
       "Ayinger Celebrator Doppelbock                  2070\n",
       "                                               ... \n",
       "Canardou Bière Aux Noix                           1\n",
       "Cerveza De La Casa                                1\n",
       "Ofen                                              1\n",
       "Bavaria Svetloye                                  1\n",
       "Axe Edge                                          1\n",
       "Beltaine Doppio Malto                             1\n",
       "Drake's Chocolate Milk Stout                      1\n",
       "Raspberry Saison                                  1\n",
       "Kinnickinick Double IPA                           1\n",
       "Moles Dafydd Ale                                  1\n",
       "Bobcat Heller Bock                                1\n",
       "Shark Bite IPA                                    1\n",
       "Original Pils                                     1\n",
       "Framboise Wheat Saison                            1\n",
       "Lemongrass Tripel                                 1\n",
       "Mad Anthony Wheat                                 1\n",
       "Victory Ale House Pale Ale                        1\n",
       "Madam Wit                                         1\n",
       "Hofbräu Delikator                                 1\n",
       "Helluva Honey                                     1\n",
       "American Red Cross Ale                            1\n",
       "Green Flash Imperial Red                          1\n",
       "Wizard's Wheat                                    1\n",
       "Stone Everything But The Kitchen Sink Stout       1\n",
       "Calico Copper E.S.B.                              1\n",
       "Von Jakob American Pilsner                        1\n",
       "Magadanskoye Barkhatnoye                          1\n",
       "North Shore Gold                                  1\n",
       "Ruby River Hefeweizen                             1\n",
       "Two Penny Ale                                     1\n",
       "Name: beer_name, dtype: int64"
      ]
     },
     "execution_count": 9,
     "metadata": {},
     "output_type": "execute_result"
    }
   ],
   "source": [
    "allbeers.beer_name[allbeers.beer_name=]"
   ]
  },
  {
   "cell_type": "code",
   "execution_count": 7,
   "metadata": {
    "collapsed": false
   },
   "outputs": [
    {
     "data": {
      "text/html": [
       "<div>\n",
       "<table border=\"1\" class=\"dataframe\">\n",
       "  <thead>\n",
       "    <tr style=\"text-align: right;\">\n",
       "      <th></th>\n",
       "      <th>brewery_id</th>\n",
       "      <th>brewery_name</th>\n",
       "      <th>review_time</th>\n",
       "      <th>review_overall</th>\n",
       "      <th>review_aroma</th>\n",
       "      <th>review_appearance</th>\n",
       "      <th>review_profilename</th>\n",
       "      <th>beer_style</th>\n",
       "      <th>review_palate</th>\n",
       "      <th>review_taste</th>\n",
       "      <th>beer_name</th>\n",
       "      <th>beer_abv</th>\n",
       "      <th>beer_beerid</th>\n",
       "    </tr>\n",
       "  </thead>\n",
       "  <tbody>\n",
       "    <tr>\n",
       "      <th>798</th>\n",
       "      <td>1075</td>\n",
       "      <td>Caldera Brewing Company</td>\n",
       "      <td>1212201268</td>\n",
       "      <td>4.5</td>\n",
       "      <td>4.5</td>\n",
       "      <td>4</td>\n",
       "      <td>grumpy</td>\n",
       "      <td>American Double / Imperial Stout</td>\n",
       "      <td>4.0</td>\n",
       "      <td>4.5</td>\n",
       "      <td>Imperial Stout</td>\n",
       "      <td>NaN</td>\n",
       "      <td>42964</td>\n",
       "    </tr>\n",
       "    <tr>\n",
       "      <th>1559</th>\n",
       "      <td>11715</td>\n",
       "      <td>Destiny Brewing Company</td>\n",
       "      <td>1137124057</td>\n",
       "      <td>4.0</td>\n",
       "      <td>3.5</td>\n",
       "      <td>4</td>\n",
       "      <td>blitheringidiot</td>\n",
       "      <td>American Pale Ale (APA)</td>\n",
       "      <td>3.5</td>\n",
       "      <td>3.5</td>\n",
       "      <td>Pale Ale</td>\n",
       "      <td>4.5</td>\n",
       "      <td>26420</td>\n",
       "    </tr>\n",
       "    <tr>\n",
       "      <th>1560</th>\n",
       "      <td>11715</td>\n",
       "      <td>Destiny Brewing Company</td>\n",
       "      <td>1129504403</td>\n",
       "      <td>4.0</td>\n",
       "      <td>2.5</td>\n",
       "      <td>4</td>\n",
       "      <td>NeroFiddled</td>\n",
       "      <td>American Pale Ale (APA)</td>\n",
       "      <td>4.0</td>\n",
       "      <td>3.5</td>\n",
       "      <td>Pale Ale</td>\n",
       "      <td>4.5</td>\n",
       "      <td>26420</td>\n",
       "    </tr>\n",
       "    <tr>\n",
       "      <th>1563</th>\n",
       "      <td>11715</td>\n",
       "      <td>Destiny Brewing Company</td>\n",
       "      <td>1137125989</td>\n",
       "      <td>3.5</td>\n",
       "      <td>3.0</td>\n",
       "      <td>4</td>\n",
       "      <td>blitheringidiot</td>\n",
       "      <td>American IPA</td>\n",
       "      <td>4.0</td>\n",
       "      <td>4.0</td>\n",
       "      <td>IPA</td>\n",
       "      <td>NaN</td>\n",
       "      <td>26132</td>\n",
       "    </tr>\n",
       "    <tr>\n",
       "      <th>1564</th>\n",
       "      <td>11715</td>\n",
       "      <td>Destiny Brewing Company</td>\n",
       "      <td>1130936611</td>\n",
       "      <td>3.0</td>\n",
       "      <td>3.0</td>\n",
       "      <td>3</td>\n",
       "      <td>Gavage</td>\n",
       "      <td>American IPA</td>\n",
       "      <td>4.0</td>\n",
       "      <td>3.5</td>\n",
       "      <td>IPA</td>\n",
       "      <td>NaN</td>\n",
       "      <td>26132</td>\n",
       "    </tr>\n",
       "  </tbody>\n",
       "</table>\n",
       "</div>"
      ],
      "text/plain": [
       "      brewery_id             brewery_name  review_time  review_overall  \\\n",
       "798         1075  Caldera Brewing Company   1212201268             4.5   \n",
       "1559       11715  Destiny Brewing Company   1137124057             4.0   \n",
       "1560       11715  Destiny Brewing Company   1129504403             4.0   \n",
       "1563       11715  Destiny Brewing Company   1137125989             3.5   \n",
       "1564       11715  Destiny Brewing Company   1130936611             3.0   \n",
       "\n",
       "      review_aroma  review_appearance review_profilename  \\\n",
       "798            4.5                  4             grumpy   \n",
       "1559           3.5                  4    blitheringidiot   \n",
       "1560           2.5                  4        NeroFiddled   \n",
       "1563           3.0                  4    blitheringidiot   \n",
       "1564           3.0                  3             Gavage   \n",
       "\n",
       "                            beer_style  review_palate  review_taste  \\\n",
       "798   American Double / Imperial Stout            4.0           4.5   \n",
       "1559           American Pale Ale (APA)            3.5           3.5   \n",
       "1560           American Pale Ale (APA)            4.0           3.5   \n",
       "1563                      American IPA            4.0           4.0   \n",
       "1564                      American IPA            4.0           3.5   \n",
       "\n",
       "           beer_name  beer_abv  beer_beerid  \n",
       "798   Imperial Stout       NaN        42964  \n",
       "1559        Pale Ale       4.5        26420  \n",
       "1560        Pale Ale       4.5        26420  \n",
       "1563             IPA       NaN        26132  \n",
       "1564             IPA       NaN        26132  "
      ]
     },
     "execution_count": 7,
     "metadata": {},
     "output_type": "execute_result"
    }
   ],
   "source": [
    "n = 250\n",
    "top_n = allbeers.beer_name.value_counts().index[:n]\n",
    "df = allbeers[allbeers.beer_name.isin(top_n)]\n",
    "df.head()"
   ]
  },
  {
   "cell_type": "markdown",
   "metadata": {},
   "source": [
    "How big is this dataset?"
   ]
  },
  {
   "cell_type": "code",
   "execution_count": null,
   "metadata": {
    "collapsed": false
   },
   "outputs": [],
   "source": [
    "df.info()"
   ]
  },
  {
   "cell_type": "markdown",
   "metadata": {},
   "source": [
    "### Pivot Table"
   ]
  },
  {
   "cell_type": "markdown",
   "metadata": {},
   "source": [
    "Aggregate the data in a pivot table using the pivot_table method. Display the mean review_overall for each beer_name aggregating the review_overall values by review_profilename. Use the mean as aggregator."
   ]
  },
  {
   "cell_type": "code",
   "execution_count": 11,
   "metadata": {
    "collapsed": false
   },
   "outputs": [
    {
     "data": {
      "text/html": [
       "<div>\n",
       "<table border=\"1\" class=\"dataframe\">\n",
       "  <thead>\n",
       "    <tr style=\"text-align: right;\">\n",
       "      <th></th>\n",
       "      <th>review_profilename</th>\n",
       "      <th>0110x011</th>\n",
       "      <th>02maxima</th>\n",
       "      <th>03SVTCobra</th>\n",
       "      <th>05Harley</th>\n",
       "      <th>0Naught0</th>\n",
       "      <th>0beerguy0</th>\n",
       "      <th>0runkp0s</th>\n",
       "      <th>0tt0</th>\n",
       "      <th>1000Bottles</th>\n",
       "      <th>1001111.0</th>\n",
       "      <th>...</th>\n",
       "      <th>zuker</th>\n",
       "      <th>zulufactor</th>\n",
       "      <th>zumicroom</th>\n",
       "      <th>zwalk8</th>\n",
       "      <th>zwoehr</th>\n",
       "      <th>zymrgy</th>\n",
       "      <th>zymurgy4all</th>\n",
       "      <th>zymurgywhiz</th>\n",
       "      <th>zythus</th>\n",
       "      <th>zyzygy</th>\n",
       "    </tr>\n",
       "    <tr>\n",
       "      <th></th>\n",
       "      <th>beer_name</th>\n",
       "      <th></th>\n",
       "      <th></th>\n",
       "      <th></th>\n",
       "      <th></th>\n",
       "      <th></th>\n",
       "      <th></th>\n",
       "      <th></th>\n",
       "      <th></th>\n",
       "      <th></th>\n",
       "      <th></th>\n",
       "      <th></th>\n",
       "      <th></th>\n",
       "      <th></th>\n",
       "      <th></th>\n",
       "      <th></th>\n",
       "      <th></th>\n",
       "      <th></th>\n",
       "      <th></th>\n",
       "      <th></th>\n",
       "      <th></th>\n",
       "      <th></th>\n",
       "    </tr>\n",
       "  </thead>\n",
       "  <tbody>\n",
       "    <tr>\n",
       "      <th rowspan=\"5\" valign=\"top\">review_overall</th>\n",
       "      <th>#9</th>\n",
       "      <td>NaN</td>\n",
       "      <td>NaN</td>\n",
       "      <td>NaN</td>\n",
       "      <td>NaN</td>\n",
       "      <td>NaN</td>\n",
       "      <td>NaN</td>\n",
       "      <td>NaN</td>\n",
       "      <td>NaN</td>\n",
       "      <td>NaN</td>\n",
       "      <td>NaN</td>\n",
       "      <td>...</td>\n",
       "      <td>NaN</td>\n",
       "      <td>NaN</td>\n",
       "      <td>NaN</td>\n",
       "      <td>NaN</td>\n",
       "      <td>NaN</td>\n",
       "      <td>NaN</td>\n",
       "      <td>NaN</td>\n",
       "      <td>NaN</td>\n",
       "      <td>NaN</td>\n",
       "      <td>NaN</td>\n",
       "    </tr>\n",
       "    <tr>\n",
       "      <th>120 Minute IPA</th>\n",
       "      <td>NaN</td>\n",
       "      <td>NaN</td>\n",
       "      <td>NaN</td>\n",
       "      <td>4</td>\n",
       "      <td>NaN</td>\n",
       "      <td>NaN</td>\n",
       "      <td>NaN</td>\n",
       "      <td>1.5</td>\n",
       "      <td>NaN</td>\n",
       "      <td>NaN</td>\n",
       "      <td>...</td>\n",
       "      <td>NaN</td>\n",
       "      <td>NaN</td>\n",
       "      <td>NaN</td>\n",
       "      <td>NaN</td>\n",
       "      <td>NaN</td>\n",
       "      <td>NaN</td>\n",
       "      <td>NaN</td>\n",
       "      <td>NaN</td>\n",
       "      <td>NaN</td>\n",
       "      <td>NaN</td>\n",
       "    </tr>\n",
       "    <tr>\n",
       "      <th>1554 Enlightened Black Ale</th>\n",
       "      <td>NaN</td>\n",
       "      <td>NaN</td>\n",
       "      <td>NaN</td>\n",
       "      <td>NaN</td>\n",
       "      <td>NaN</td>\n",
       "      <td>NaN</td>\n",
       "      <td>NaN</td>\n",
       "      <td>NaN</td>\n",
       "      <td>NaN</td>\n",
       "      <td>NaN</td>\n",
       "      <td>...</td>\n",
       "      <td>NaN</td>\n",
       "      <td>NaN</td>\n",
       "      <td>NaN</td>\n",
       "      <td>NaN</td>\n",
       "      <td>NaN</td>\n",
       "      <td>NaN</td>\n",
       "      <td>NaN</td>\n",
       "      <td>NaN</td>\n",
       "      <td>NaN</td>\n",
       "      <td>NaN</td>\n",
       "    </tr>\n",
       "    <tr>\n",
       "      <th>60 Minute IPA</th>\n",
       "      <td>NaN</td>\n",
       "      <td>NaN</td>\n",
       "      <td>NaN</td>\n",
       "      <td>NaN</td>\n",
       "      <td>NaN</td>\n",
       "      <td>NaN</td>\n",
       "      <td>NaN</td>\n",
       "      <td>NaN</td>\n",
       "      <td>NaN</td>\n",
       "      <td>NaN</td>\n",
       "      <td>...</td>\n",
       "      <td>NaN</td>\n",
       "      <td>NaN</td>\n",
       "      <td>NaN</td>\n",
       "      <td>NaN</td>\n",
       "      <td>NaN</td>\n",
       "      <td>NaN</td>\n",
       "      <td>NaN</td>\n",
       "      <td>NaN</td>\n",
       "      <td>NaN</td>\n",
       "      <td>NaN</td>\n",
       "    </tr>\n",
       "    <tr>\n",
       "      <th>90 Minute IPA</th>\n",
       "      <td>5</td>\n",
       "      <td>NaN</td>\n",
       "      <td>NaN</td>\n",
       "      <td>4</td>\n",
       "      <td>NaN</td>\n",
       "      <td>NaN</td>\n",
       "      <td>NaN</td>\n",
       "      <td>NaN</td>\n",
       "      <td>NaN</td>\n",
       "      <td>NaN</td>\n",
       "      <td>...</td>\n",
       "      <td>NaN</td>\n",
       "      <td>NaN</td>\n",
       "      <td>NaN</td>\n",
       "      <td>NaN</td>\n",
       "      <td>NaN</td>\n",
       "      <td>NaN</td>\n",
       "      <td>NaN</td>\n",
       "      <td>NaN</td>\n",
       "      <td>NaN</td>\n",
       "      <td>NaN</td>\n",
       "    </tr>\n",
       "  </tbody>\n",
       "</table>\n",
       "<p>5 rows × 22140 columns</p>\n",
       "</div>"
      ],
      "text/plain": [
       "review_profilename                         0110x011  02maxima  03SVTCobra  \\\n",
       "               beer_name                                                    \n",
       "review_overall #9                               NaN       NaN         NaN   \n",
       "               120 Minute IPA                   NaN       NaN         NaN   \n",
       "               1554 Enlightened Black Ale       NaN       NaN         NaN   \n",
       "               60 Minute IPA                    NaN       NaN         NaN   \n",
       "               90 Minute IPA                      5       NaN         NaN   \n",
       "\n",
       "review_profilename                         05Harley  0Naught0  0beerguy0  \\\n",
       "               beer_name                                                   \n",
       "review_overall #9                               NaN       NaN        NaN   \n",
       "               120 Minute IPA                     4       NaN        NaN   \n",
       "               1554 Enlightened Black Ale       NaN       NaN        NaN   \n",
       "               60 Minute IPA                    NaN       NaN        NaN   \n",
       "               90 Minute IPA                      4       NaN        NaN   \n",
       "\n",
       "review_profilename                         0runkp0s  0tt0  1000Bottles  \\\n",
       "               beer_name                                                 \n",
       "review_overall #9                               NaN   NaN          NaN   \n",
       "               120 Minute IPA                   NaN   1.5          NaN   \n",
       "               1554 Enlightened Black Ale       NaN   NaN          NaN   \n",
       "               60 Minute IPA                    NaN   NaN          NaN   \n",
       "               90 Minute IPA                    NaN   NaN          NaN   \n",
       "\n",
       "review_profilename                         1001111.0   ...    zuker  \\\n",
       "               beer_name                               ...            \n",
       "review_overall #9                                NaN   ...      NaN   \n",
       "               120 Minute IPA                    NaN   ...      NaN   \n",
       "               1554 Enlightened Black Ale        NaN   ...      NaN   \n",
       "               60 Minute IPA                     NaN   ...      NaN   \n",
       "               90 Minute IPA                     NaN   ...      NaN   \n",
       "\n",
       "review_profilename                         zulufactor  zumicroom  zwalk8  \\\n",
       "               beer_name                                                   \n",
       "review_overall #9                                 NaN        NaN     NaN   \n",
       "               120 Minute IPA                     NaN        NaN     NaN   \n",
       "               1554 Enlightened Black Ale         NaN        NaN     NaN   \n",
       "               60 Minute IPA                      NaN        NaN     NaN   \n",
       "               90 Minute IPA                      NaN        NaN     NaN   \n",
       "\n",
       "review_profilename                         zwoehr  zymrgy  zymurgy4all  \\\n",
       "               beer_name                                                 \n",
       "review_overall #9                             NaN     NaN          NaN   \n",
       "               120 Minute IPA                 NaN     NaN          NaN   \n",
       "               1554 Enlightened Black Ale     NaN     NaN          NaN   \n",
       "               60 Minute IPA                  NaN     NaN          NaN   \n",
       "               90 Minute IPA                  NaN     NaN          NaN   \n",
       "\n",
       "review_profilename                         zymurgywhiz  zythus  zyzygy  \n",
       "               beer_name                                                \n",
       "review_overall #9                                  NaN     NaN     NaN  \n",
       "               120 Minute IPA                      NaN     NaN     NaN  \n",
       "               1554 Enlightened Black Ale          NaN     NaN     NaN  \n",
       "               60 Minute IPA                       NaN     NaN     NaN  \n",
       "               90 Minute IPA                       NaN     NaN     NaN  \n",
       "\n",
       "[5 rows x 22140 columns]"
      ]
     },
     "execution_count": 11,
     "metadata": {},
     "output_type": "execute_result"
    }
   ],
   "source": [
    "# multi indexing in pivot tables\n",
    "\n",
    "df_pivot = pd.pivot_table(df, values=[\"review_overall\"],\n",
    "        columns=[\"beer_name\", \"review_profilename\"],\n",
    "        aggfunc=np.mean)\n",
    "#pivot_table converts to a multi-index series. Unstack converts to a dataframe where the last index becomes our column head\n",
    "df_wide = df_pivot.unstack(-1)\n",
    "df_wide.head()"
   ]
  },
  {
   "cell_type": "markdown",
   "metadata": {},
   "source": [
    "Display the head of the pivot table, but only for 5 users (columns are users)"
   ]
  },
  {
   "cell_type": "code",
   "execution_count": 13,
   "metadata": {
    "collapsed": false
   },
   "outputs": [
    {
     "data": {
      "text/html": [
       "<div>\n",
       "<table border=\"1\" class=\"dataframe\">\n",
       "  <thead>\n",
       "    <tr style=\"text-align: right;\">\n",
       "      <th></th>\n",
       "      <th>review_profilename</th>\n",
       "      <th>0110x011</th>\n",
       "      <th>02maxima</th>\n",
       "      <th>03SVTCobra</th>\n",
       "      <th>05Harley</th>\n",
       "      <th>0Naught0</th>\n",
       "    </tr>\n",
       "    <tr>\n",
       "      <th></th>\n",
       "      <th>beer_name</th>\n",
       "      <th></th>\n",
       "      <th></th>\n",
       "      <th></th>\n",
       "      <th></th>\n",
       "      <th></th>\n",
       "    </tr>\n",
       "  </thead>\n",
       "  <tbody>\n",
       "    <tr>\n",
       "      <th rowspan=\"5\" valign=\"top\">review_overall</th>\n",
       "      <th>#9</th>\n",
       "      <td>NaN</td>\n",
       "      <td>NaN</td>\n",
       "      <td>NaN</td>\n",
       "      <td>NaN</td>\n",
       "      <td>NaN</td>\n",
       "    </tr>\n",
       "    <tr>\n",
       "      <th>120 Minute IPA</th>\n",
       "      <td>NaN</td>\n",
       "      <td>NaN</td>\n",
       "      <td>NaN</td>\n",
       "      <td>4</td>\n",
       "      <td>NaN</td>\n",
       "    </tr>\n",
       "    <tr>\n",
       "      <th>1554 Enlightened Black Ale</th>\n",
       "      <td>NaN</td>\n",
       "      <td>NaN</td>\n",
       "      <td>NaN</td>\n",
       "      <td>NaN</td>\n",
       "      <td>NaN</td>\n",
       "    </tr>\n",
       "    <tr>\n",
       "      <th>60 Minute IPA</th>\n",
       "      <td>NaN</td>\n",
       "      <td>NaN</td>\n",
       "      <td>NaN</td>\n",
       "      <td>NaN</td>\n",
       "      <td>NaN</td>\n",
       "    </tr>\n",
       "    <tr>\n",
       "      <th>90 Minute IPA</th>\n",
       "      <td>5</td>\n",
       "      <td>NaN</td>\n",
       "      <td>NaN</td>\n",
       "      <td>4</td>\n",
       "      <td>NaN</td>\n",
       "    </tr>\n",
       "  </tbody>\n",
       "</table>\n",
       "</div>"
      ],
      "text/plain": [
       "review_profilename                         0110x011  02maxima  03SVTCobra  \\\n",
       "               beer_name                                                    \n",
       "review_overall #9                               NaN       NaN         NaN   \n",
       "               120 Minute IPA                   NaN       NaN         NaN   \n",
       "               1554 Enlightened Black Ale       NaN       NaN         NaN   \n",
       "               60 Minute IPA                    NaN       NaN         NaN   \n",
       "               90 Minute IPA                      5       NaN         NaN   \n",
       "\n",
       "review_profilename                         05Harley  0Naught0  \n",
       "               beer_name                                       \n",
       "review_overall #9                               NaN       NaN  \n",
       "               120 Minute IPA                     4       NaN  \n",
       "               1554 Enlightened Black Ale       NaN       NaN  \n",
       "               60 Minute IPA                    NaN       NaN  \n",
       "               90 Minute IPA                      4       NaN  "
      ]
     },
     "execution_count": 13,
     "metadata": {},
     "output_type": "execute_result"
    }
   ],
   "source": [
    "df_wide.ix[0:5, 0:5]"
   ]
  },
  {
   "cell_type": "markdown",
   "metadata": {},
   "source": [
    "### Discussion: what do you notice in this table?"
   ]
  },
  {
   "cell_type": "markdown",
   "metadata": {},
   "source": [
    "#### Data munging\n",
    "Set Nans to zero"
   ]
  },
  {
   "cell_type": "code",
   "execution_count": 14,
   "metadata": {
    "collapsed": false
   },
   "outputs": [],
   "source": [
    "df_wide = df_wide.fillna(0)"
   ]
  },
  {
   "cell_type": "markdown",
   "metadata": {},
   "source": [
    "Check that columns are users"
   ]
  },
  {
   "cell_type": "code",
   "execution_count": 15,
   "metadata": {
    "collapsed": false
   },
   "outputs": [
    {
     "data": {
      "text/plain": [
       "Index([u'0110x011', u'02maxima', u'03SVTCobra', u'05Harley', u'0Naught0',\n",
       "       u'0beerguy0', u'0runkp0s', u'0tt0', u'1000Bottles', u'1001111.0'],\n",
       "      dtype='object', name=u'review_profilename')"
      ]
     },
     "execution_count": 15,
     "metadata": {},
     "output_type": "execute_result"
    }
   ],
   "source": [
    "df_wide.columns[:10]"
   ]
  },
  {
   "cell_type": "markdown",
   "metadata": {},
   "source": [
    "Check that rows are beers"
   ]
  },
  {
   "cell_type": "code",
   "execution_count": 16,
   "metadata": {
    "collapsed": false
   },
   "outputs": [
    {
     "data": {
      "text/plain": [
       "Index([u'#9', u'120 Minute IPA', u'1554 Enlightened Black Ale',\n",
       "       u'60 Minute IPA', u'90 Minute IPA',\n",
       "       u'Aecht Schlenkerla Rauchbier Märzen', u'AleSmith IPA',\n",
       "       u'AleSmith Speedway Stout', u'Allagash White', u'Alpha King Pale Ale',\n",
       "       ...\n",
       "       u'Vanilla Porter', u'Weihenstephaner Hefeweissbier',\n",
       "       u'Weihenstephaner Korbinian', u'Westmalle Trappist Dubbel',\n",
       "       u'Westmalle Trappist Tripel', u'World Wide Stout',\n",
       "       u'Yeti Imperial Stout', u'Young's Double Chocolate Stout',\n",
       "       u'Yuengling Traditional Lager', u'Éphémère (Apple)'],\n",
       "      dtype='object', name=u'beer_name', length=250)"
      ]
     },
     "execution_count": 16,
     "metadata": {},
     "output_type": "execute_result"
    }
   ],
   "source": [
    "df_wide.index.levels[0]\n",
    "beer_names = df_wide.index.levels[1]\n",
    "beer_names"
   ]
  },
  {
   "cell_type": "markdown",
   "metadata": {},
   "source": [
    "### Calculate distance between beers\n",
    "\n",
    "We're going to use cosine_similarity from scikit-learn to compute the distance between all beers"
   ]
  },
  {
   "cell_type": "markdown",
   "metadata": {},
   "source": [
    "Imports"
   ]
  },
  {
   "cell_type": "code",
   "execution_count": 18,
   "metadata": {
    "collapsed": false
   },
   "outputs": [],
   "source": [
    "from sklearn.metrics.pairwise import cosine_similarity\n",
    "from sklearn.metrics.pairwise import manhattan_distances\n",
    "from sklearn.metrics.pairwise import euclidean_distances"
   ]
  },
  {
   "cell_type": "markdown",
   "metadata": {},
   "source": [
    "Apply cosine similarity to df_wide to calculate pairwise distances"
   ]
  },
  {
   "cell_type": "code",
   "execution_count": 19,
   "metadata": {
    "collapsed": false
   },
   "outputs": [
    {
     "data": {
      "text/plain": [
       "array([[ 1.        ,  0.27540494,  0.27410345, ...,  0.32928048,\n",
       "         0.34805798,  0.31249922],\n",
       "       [ 0.27540494,  1.        ,  0.25151873, ...,  0.2854835 ,\n",
       "         0.23301356,  0.2802485 ],\n",
       "       [ 0.27410345,  0.25151873,  1.        , ...,  0.31629515,\n",
       "         0.22521858,  0.2737628 ],\n",
       "       ..., \n",
       "       [ 0.32928048,  0.2854835 ,  0.31629515, ...,  1.        ,\n",
       "         0.28025764,  0.34504013],\n",
       "       [ 0.34805798,  0.23301356,  0.22521858, ...,  0.28025764,\n",
       "         1.        ,  0.25526913],\n",
       "       [ 0.31249922,  0.2802485 ,  0.2737628 , ...,  0.34504013,\n",
       "         0.25526913,  1.        ]])"
      ]
     },
     "execution_count": 19,
     "metadata": {},
     "output_type": "execute_result"
    }
   ],
   "source": [
    "dists = cosine_similarity(df_wide)\n",
    "dists"
   ]
  },
  {
   "cell_type": "markdown",
   "metadata": {},
   "source": [
    "### Discussion: what type of object is dists?"
   ]
  },
  {
   "cell_type": "markdown",
   "metadata": {},
   "source": [
    "Convert dists to a Pandas DataFrame, use the index as column index as well (distances are a square matrix)."
   ]
  },
  {
   "cell_type": "code",
   "execution_count": 26,
   "metadata": {
    "collapsed": false
   },
   "outputs": [
    {
     "data": {
      "text/plain": [
       "False"
      ]
     },
     "execution_count": 26,
     "metadata": {},
     "output_type": "execute_result"
    }
   ],
   "source": [
    "dists.index[dists.index[0:3]=='Desc']"
   ]
  },
  {
   "cell_type": "code",
   "execution_count": 27,
   "metadata": {
    "collapsed": false
   },
   "outputs": [
    {
     "data": {
      "text/html": [
       "<div>\n",
       "<table border=\"1\" class=\"dataframe\">\n",
       "  <thead>\n",
       "    <tr style=\"text-align: right;\">\n",
       "      <th>beer_name</th>\n",
       "      <th>#9</th>\n",
       "      <th>120 Minute IPA</th>\n",
       "      <th>1554 Enlightened Black Ale</th>\n",
       "      <th>60 Minute IPA</th>\n",
       "      <th>90 Minute IPA</th>\n",
       "      <th>Aecht Schlenkerla Rauchbier Märzen</th>\n",
       "      <th>AleSmith IPA</th>\n",
       "      <th>AleSmith Speedway Stout</th>\n",
       "      <th>Allagash White</th>\n",
       "      <th>Alpha King Pale Ale</th>\n",
       "    </tr>\n",
       "    <tr>\n",
       "      <th>beer_name</th>\n",
       "      <th></th>\n",
       "      <th></th>\n",
       "      <th></th>\n",
       "      <th></th>\n",
       "      <th></th>\n",
       "      <th></th>\n",
       "      <th></th>\n",
       "      <th></th>\n",
       "      <th></th>\n",
       "      <th></th>\n",
       "    </tr>\n",
       "  </thead>\n",
       "  <tbody>\n",
       "    <tr>\n",
       "      <th>#9</th>\n",
       "      <td>1.000000</td>\n",
       "      <td>0.275405</td>\n",
       "      <td>0.274103</td>\n",
       "      <td>0.388364</td>\n",
       "      <td>0.365175</td>\n",
       "      <td>0.253841</td>\n",
       "      <td>0.228479</td>\n",
       "      <td>0.227612</td>\n",
       "      <td>0.340681</td>\n",
       "      <td>0.293315</td>\n",
       "    </tr>\n",
       "    <tr>\n",
       "      <th>120 Minute IPA</th>\n",
       "      <td>0.275405</td>\n",
       "      <td>1.000000</td>\n",
       "      <td>0.251519</td>\n",
       "      <td>0.378258</td>\n",
       "      <td>0.410366</td>\n",
       "      <td>0.262425</td>\n",
       "      <td>0.315971</td>\n",
       "      <td>0.337541</td>\n",
       "      <td>0.282273</td>\n",
       "      <td>0.336796</td>\n",
       "    </tr>\n",
       "    <tr>\n",
       "      <th>1554 Enlightened Black Ale</th>\n",
       "      <td>0.274103</td>\n",
       "      <td>0.251519</td>\n",
       "      <td>1.000000</td>\n",
       "      <td>0.319887</td>\n",
       "      <td>0.314028</td>\n",
       "      <td>0.252486</td>\n",
       "      <td>0.266866</td>\n",
       "      <td>0.261761</td>\n",
       "      <td>0.260275</td>\n",
       "      <td>0.307296</td>\n",
       "    </tr>\n",
       "    <tr>\n",
       "      <th>60 Minute IPA</th>\n",
       "      <td>0.388364</td>\n",
       "      <td>0.378258</td>\n",
       "      <td>0.319887</td>\n",
       "      <td>1.000000</td>\n",
       "      <td>0.533042</td>\n",
       "      <td>0.316928</td>\n",
       "      <td>0.312343</td>\n",
       "      <td>0.307627</td>\n",
       "      <td>0.360975</td>\n",
       "      <td>0.385249</td>\n",
       "    </tr>\n",
       "    <tr>\n",
       "      <th>90 Minute IPA</th>\n",
       "      <td>0.365175</td>\n",
       "      <td>0.410366</td>\n",
       "      <td>0.314028</td>\n",
       "      <td>0.533042</td>\n",
       "      <td>1.000000</td>\n",
       "      <td>0.312861</td>\n",
       "      <td>0.344218</td>\n",
       "      <td>0.358754</td>\n",
       "      <td>0.356804</td>\n",
       "      <td>0.418582</td>\n",
       "    </tr>\n",
       "    <tr>\n",
       "      <th>Aecht Schlenkerla Rauchbier Märzen</th>\n",
       "      <td>0.253841</td>\n",
       "      <td>0.262425</td>\n",
       "      <td>0.252486</td>\n",
       "      <td>0.316928</td>\n",
       "      <td>0.312861</td>\n",
       "      <td>1.000000</td>\n",
       "      <td>0.244490</td>\n",
       "      <td>0.246063</td>\n",
       "      <td>0.297672</td>\n",
       "      <td>0.263248</td>\n",
       "    </tr>\n",
       "    <tr>\n",
       "      <th>AleSmith IPA</th>\n",
       "      <td>0.228479</td>\n",
       "      <td>0.315971</td>\n",
       "      <td>0.266866</td>\n",
       "      <td>0.312343</td>\n",
       "      <td>0.344218</td>\n",
       "      <td>0.244490</td>\n",
       "      <td>1.000000</td>\n",
       "      <td>0.521889</td>\n",
       "      <td>0.277409</td>\n",
       "      <td>0.400741</td>\n",
       "    </tr>\n",
       "    <tr>\n",
       "      <th>AleSmith Speedway Stout</th>\n",
       "      <td>0.227612</td>\n",
       "      <td>0.337541</td>\n",
       "      <td>0.261761</td>\n",
       "      <td>0.307627</td>\n",
       "      <td>0.358754</td>\n",
       "      <td>0.246063</td>\n",
       "      <td>0.521889</td>\n",
       "      <td>1.000000</td>\n",
       "      <td>0.273930</td>\n",
       "      <td>0.420247</td>\n",
       "    </tr>\n",
       "    <tr>\n",
       "      <th>Allagash White</th>\n",
       "      <td>0.340681</td>\n",
       "      <td>0.282273</td>\n",
       "      <td>0.260275</td>\n",
       "      <td>0.360975</td>\n",
       "      <td>0.356804</td>\n",
       "      <td>0.297672</td>\n",
       "      <td>0.277409</td>\n",
       "      <td>0.273930</td>\n",
       "      <td>1.000000</td>\n",
       "      <td>0.295666</td>\n",
       "    </tr>\n",
       "    <tr>\n",
       "      <th>Alpha King Pale Ale</th>\n",
       "      <td>0.293315</td>\n",
       "      <td>0.336796</td>\n",
       "      <td>0.307296</td>\n",
       "      <td>0.385249</td>\n",
       "      <td>0.418582</td>\n",
       "      <td>0.263248</td>\n",
       "      <td>0.400741</td>\n",
       "      <td>0.420247</td>\n",
       "      <td>0.295666</td>\n",
       "      <td>1.000000</td>\n",
       "    </tr>\n",
       "  </tbody>\n",
       "</table>\n",
       "</div>"
      ],
      "text/plain": [
       "beer_name                                 #9  120 Minute IPA  \\\n",
       "beer_name                                                      \n",
       "#9                                  1.000000        0.275405   \n",
       "120 Minute IPA                      0.275405        1.000000   \n",
       "1554 Enlightened Black Ale          0.274103        0.251519   \n",
       "60 Minute IPA                       0.388364        0.378258   \n",
       "90 Minute IPA                       0.365175        0.410366   \n",
       "Aecht Schlenkerla Rauchbier Märzen  0.253841        0.262425   \n",
       "AleSmith IPA                        0.228479        0.315971   \n",
       "AleSmith Speedway Stout             0.227612        0.337541   \n",
       "Allagash White                      0.340681        0.282273   \n",
       "Alpha King Pale Ale                 0.293315        0.336796   \n",
       "\n",
       "beer_name                           1554 Enlightened Black Ale  60 Minute IPA  \\\n",
       "beer_name                                                                       \n",
       "#9                                                    0.274103       0.388364   \n",
       "120 Minute IPA                                        0.251519       0.378258   \n",
       "1554 Enlightened Black Ale                            1.000000       0.319887   \n",
       "60 Minute IPA                                         0.319887       1.000000   \n",
       "90 Minute IPA                                         0.314028       0.533042   \n",
       "Aecht Schlenkerla Rauchbier Märzen                    0.252486       0.316928   \n",
       "AleSmith IPA                                          0.266866       0.312343   \n",
       "AleSmith Speedway Stout                               0.261761       0.307627   \n",
       "Allagash White                                        0.260275       0.360975   \n",
       "Alpha King Pale Ale                                   0.307296       0.385249   \n",
       "\n",
       "beer_name                           90 Minute IPA  \\\n",
       "beer_name                                           \n",
       "#9                                       0.365175   \n",
       "120 Minute IPA                           0.410366   \n",
       "1554 Enlightened Black Ale               0.314028   \n",
       "60 Minute IPA                            0.533042   \n",
       "90 Minute IPA                            1.000000   \n",
       "Aecht Schlenkerla Rauchbier Märzen       0.312861   \n",
       "AleSmith IPA                             0.344218   \n",
       "AleSmith Speedway Stout                  0.358754   \n",
       "Allagash White                           0.356804   \n",
       "Alpha King Pale Ale                      0.418582   \n",
       "\n",
       "beer_name                           Aecht Schlenkerla Rauchbier Märzen  \\\n",
       "beer_name                                                                \n",
       "#9                                                            0.253841   \n",
       "120 Minute IPA                                                0.262425   \n",
       "1554 Enlightened Black Ale                                    0.252486   \n",
       "60 Minute IPA                                                 0.316928   \n",
       "90 Minute IPA                                                 0.312861   \n",
       "Aecht Schlenkerla Rauchbier Märzen                            1.000000   \n",
       "AleSmith IPA                                                  0.244490   \n",
       "AleSmith Speedway Stout                                       0.246063   \n",
       "Allagash White                                                0.297672   \n",
       "Alpha King Pale Ale                                           0.263248   \n",
       "\n",
       "beer_name                           AleSmith IPA  AleSmith Speedway Stout  \\\n",
       "beer_name                                                                   \n",
       "#9                                      0.228479                 0.227612   \n",
       "120 Minute IPA                          0.315971                 0.337541   \n",
       "1554 Enlightened Black Ale              0.266866                 0.261761   \n",
       "60 Minute IPA                           0.312343                 0.307627   \n",
       "90 Minute IPA                           0.344218                 0.358754   \n",
       "Aecht Schlenkerla Rauchbier Märzen      0.244490                 0.246063   \n",
       "AleSmith IPA                            1.000000                 0.521889   \n",
       "AleSmith Speedway Stout                 0.521889                 1.000000   \n",
       "Allagash White                          0.277409                 0.273930   \n",
       "Alpha King Pale Ale                     0.400741                 0.420247   \n",
       "\n",
       "beer_name                           Allagash White  Alpha King Pale Ale  \n",
       "beer_name                                                                \n",
       "#9                                        0.340681             0.293315  \n",
       "120 Minute IPA                            0.282273             0.336796  \n",
       "1554 Enlightened Black Ale                0.260275             0.307296  \n",
       "60 Minute IPA                             0.360975             0.385249  \n",
       "90 Minute IPA                             0.356804             0.418582  \n",
       "Aecht Schlenkerla Rauchbier Märzen        0.297672             0.263248  \n",
       "AleSmith IPA                              0.277409             0.400741  \n",
       "AleSmith Speedway Stout                   0.273930             0.420247  \n",
       "Allagash White                            1.000000             0.295666  \n",
       "Alpha King Pale Ale                       0.295666             1.000000  "
      ]
     },
     "execution_count": 27,
     "metadata": {},
     "output_type": "execute_result"
    }
   ],
   "source": [
    "dists = pd.DataFrame(dists)\n",
    "dists.columns = beer_names\n",
    "dists.index = beer_names\n",
    "dists.ix[0:10, 0:10]"
   ]
  },
  {
   "cell_type": "markdown",
   "metadata": {},
   "source": [
    "Select some beers and look their distances to other beers"
   ]
  },
  {
   "cell_type": "code",
   "execution_count": 28,
   "metadata": {
    "collapsed": false
   },
   "outputs": [
    {
     "data": {
      "text/html": [
       "<div>\n",
       "<table border=\"1\" class=\"dataframe\">\n",
       "  <thead>\n",
       "    <tr style=\"text-align: right;\">\n",
       "      <th>beer_name</th>\n",
       "      <th>Lagunitas IPA</th>\n",
       "      <th>120 Minute IPA</th>\n",
       "      <th>Allagash White</th>\n",
       "    </tr>\n",
       "    <tr>\n",
       "      <th>beer_name</th>\n",
       "      <th></th>\n",
       "      <th></th>\n",
       "      <th></th>\n",
       "    </tr>\n",
       "  </thead>\n",
       "  <tbody>\n",
       "    <tr>\n",
       "      <th>#9</th>\n",
       "      <td>0.266500</td>\n",
       "      <td>0.275405</td>\n",
       "      <td>0.340681</td>\n",
       "    </tr>\n",
       "    <tr>\n",
       "      <th>120 Minute IPA</th>\n",
       "      <td>0.269256</td>\n",
       "      <td>1.000000</td>\n",
       "      <td>0.282273</td>\n",
       "    </tr>\n",
       "    <tr>\n",
       "      <th>1554 Enlightened Black Ale</th>\n",
       "      <td>0.309986</td>\n",
       "      <td>0.251519</td>\n",
       "      <td>0.260275</td>\n",
       "    </tr>\n",
       "    <tr>\n",
       "      <th>60 Minute IPA</th>\n",
       "      <td>0.383417</td>\n",
       "      <td>0.378258</td>\n",
       "      <td>0.360975</td>\n",
       "    </tr>\n",
       "    <tr>\n",
       "      <th>90 Minute IPA</th>\n",
       "      <td>0.376069</td>\n",
       "      <td>0.410366</td>\n",
       "      <td>0.356804</td>\n",
       "    </tr>\n",
       "  </tbody>\n",
       "</table>\n",
       "</div>"
      ],
      "text/plain": [
       "beer_name                   Lagunitas IPA  120 Minute IPA  Allagash White\n",
       "beer_name                                                                \n",
       "#9                               0.266500        0.275405        0.340681\n",
       "120 Minute IPA                   0.269256        1.000000        0.282273\n",
       "1554 Enlightened Black Ale       0.309986        0.251519        0.260275\n",
       "60 Minute IPA                    0.383417        0.378258        0.360975\n",
       "90 Minute IPA                    0.376069        0.410366        0.356804"
      ]
     },
     "execution_count": 28,
     "metadata": {},
     "output_type": "execute_result"
    }
   ],
   "source": [
    "beers_i_like = ['Lagunitas IPA', '120 Minute IPA', 'Allagash White']\n",
    "dists[beers_i_like].head()"
   ]
  },
  {
   "cell_type": "markdown",
   "metadata": {},
   "source": [
    "Sum the distances of my favourite beers by row, to have one distance from each beer in the sample"
   ]
  },
  {
   "cell_type": "code",
   "execution_count": 30,
   "metadata": {
    "collapsed": false
   },
   "outputs": [
    {
     "data": {
      "text/plain": [
       "beer_name\n",
       "#9                                                    0.882586\n",
       "120 Minute IPA                                        1.551529\n",
       "1554 Enlightened Black Ale                            0.821780\n",
       "60 Minute IPA                                         1.122651\n",
       "90 Minute IPA                                         1.143240\n",
       "Aecht Schlenkerla Rauchbier Märzen                    0.817767\n",
       "AleSmith IPA                                          0.899137\n",
       "AleSmith Speedway Stout                               0.878158\n",
       "Allagash White                                        1.577683\n",
       "Alpha King Pale Ale                                   0.919779\n",
       "Anchor Liberty Ale                                    0.963029\n",
       "Anchor Old Foghorn                                    0.906481\n",
       "Anchor Porter                                         0.914758\n",
       "Anchor Steam Beer                                     0.980974\n",
       "ApriHop                                               1.037921\n",
       "Arrogant Bastard Ale                                  1.084928\n",
       "Ayinger Celebrator Doppelbock                         1.058777\n",
       "Bass Pale Ale                                         0.776328\n",
       "Bell's Expedition Stout                               0.987303\n",
       "Bell's Hopslam Ale                                    0.863536\n",
       "Bell's Java Stout                                     0.836381\n",
       "Bell's Kalamazoo Stout                                0.927742\n",
       "Bell's Oberon Ale                                     0.897682\n",
       "Bell's Special Double Cream Stout                     0.881166\n",
       "Big Bear Black Stout                                  0.981192\n",
       "Black Butte Porter                                    0.794541\n",
       "Blanche De Chambly                                    0.837820\n",
       "Blind Pig IPA                                         0.809586\n",
       "Blue Moon Belgian White                               0.778697\n",
       "Boddingtons Pub Ale                                   0.694475\n",
       "                                                        ...   \n",
       "Stone Smoked Porter                                   1.073581\n",
       "Stone Sublimely Self-Righteous Ale                    0.955949\n",
       "Storm King Stout                                      1.119833\n",
       "Supplication                                          0.764746\n",
       "Ten FIDY                                              0.953110\n",
       "Terrapin Coffee Oatmeal Imperial Stout                0.737156\n",
       "The Abyss                                             0.723027\n",
       "Three Philosophers Belgian Style Blend (Quadrupel)    1.013281\n",
       "Titan IPA                                             0.995968\n",
       "Trappist Westvleteren 12                              0.796141\n",
       "Trappistes Rochefort 10                               0.954866\n",
       "Trappistes Rochefort 8                                0.940013\n",
       "Tripel Karmeliet                                      0.836637\n",
       "Troegenator Double Bock                               0.831146\n",
       "Trois Pistoles                                        0.998818\n",
       "Tröegs Hopback Amber Ale                              0.901558\n",
       "Tröegs Mad Elf                                        0.849438\n",
       "Tröegs Nugget Nectar                                  0.927548\n",
       "Two Hearted Ale                                       1.045690\n",
       "Unearthly (Imperial India Pale Ale)                   0.890138\n",
       "Vanilla Porter                                        0.618904\n",
       "Weihenstephaner Hefeweissbier                         1.017874\n",
       "Weihenstephaner Korbinian                             0.887311\n",
       "Westmalle Trappist Dubbel                             0.817242\n",
       "Westmalle Trappist Tripel                             0.908311\n",
       "World Wide Stout                                      0.981477\n",
       "Yeti Imperial Stout                                   0.971539\n",
       "Young's Double Chocolate Stout                        0.934553\n",
       "Yuengling Traditional Lager                           0.748334\n",
       "Éphémère (Apple)                                      0.894138\n",
       "dtype: float64"
      ]
     },
     "execution_count": 30,
     "metadata": {},
     "output_type": "execute_result"
    }
   ],
   "source": [
    "beers_summed = dists[beers_i_like].apply(lambda row: np.sum(row), axis=1)\n",
    "beers_summed\n",
    "#beers_summed = np.sum(dists[beers_i_like], axis=1)"
   ]
  },
  {
   "cell_type": "markdown",
   "metadata": {},
   "source": [
    "#### Performance"
   ]
  },
  {
   "cell_type": "markdown",
   "metadata": {},
   "source": [
    "Optional: which one is faster? use ```%timeit``` to check"
   ]
  },
  {
   "cell_type": "code",
   "execution_count": 31,
   "metadata": {
    "collapsed": false
   },
   "outputs": [
    {
     "name": "stdout",
     "output_type": "stream",
     "text": [
      "100 loops, best of 3: 6.82 ms per loop\n"
     ]
    }
   ],
   "source": [
    "%timeit dists[beers_i_like].apply(lambda row: np.sum(row), axis=1)"
   ]
  },
  {
   "cell_type": "code",
   "execution_count": 33,
   "metadata": {
    "collapsed": false
   },
   "outputs": [
    {
     "name": "stdout",
     "output_type": "stream",
     "text": [
      "1000 loops, best of 3: 472 µs per loop\n"
     ]
    }
   ],
   "source": [
    "%timeit np.sum(dists[beers_i_like], axis=1)"
   ]
  },
  {
   "cell_type": "markdown",
   "metadata": {},
   "source": [
    "#### Ranking"
   ]
  },
  {
   "cell_type": "markdown",
   "metadata": {},
   "source": [
    "Sort summed beers from best to worse"
   ]
  },
  {
   "cell_type": "code",
   "execution_count": 34,
   "metadata": {
    "collapsed": false
   },
   "outputs": [
    {
     "name": "stderr",
     "output_type": "stream",
     "text": [
      "/Applications/anaconda/lib/python2.7/site-packages/ipykernel/__main__.py:1: FutureWarning: order is deprecated, use sort_values(...)\n",
      "  if __name__ == '__main__':\n"
     ]
    },
    {
     "data": {
      "text/plain": [
       "beer_name\n",
       "Allagash White                                1.577683\n",
       "Lagunitas IPA                                 1.564667\n",
       "120 Minute IPA                                1.551529\n",
       "HopDevil Ale                                  1.147034\n",
       "90 Minute IPA                                 1.143240\n",
       "Stone Ruination IPA                           1.137809\n",
       "Hop Rod Rye                                   1.125049\n",
       "Stone IPA (India Pale Ale)                    1.123990\n",
       "60 Minute IPA                                 1.122651\n",
       "Storm King Stout                              1.119833\n",
       "Prima Pils                                    1.105954\n",
       "Racer 5 India Pale Ale                        1.101766\n",
       "Sierra Nevada Celebration Ale                 1.095523\n",
       "Hop Wallop                                    1.091006\n",
       "Arrogant Bastard Ale                          1.084928\n",
       "Brooklyn Black Chocolate Stout                1.080623\n",
       "Sierra Nevada Bigfoot Barleywine Style Ale    1.080196\n",
       "Stone Smoked Porter                           1.073581\n",
       "Double Bastard Ale                            1.073437\n",
       "Old Rasputin Russian Imperial Stout           1.068443\n",
       "Oaked Arrogant Bastard Ale                    1.067972\n",
       "Hennepin (Farmhouse Saison)                   1.062369\n",
       "Ayinger Celebrator Doppelbock                 1.058777\n",
       "Stone Imperial Russian Stout                  1.057579\n",
       "India Pale Ale                                1.050961\n",
       "Two Hearted Ale                               1.045690\n",
       "Indian Brown Ale                              1.042147\n",
       "ApriHop                                       1.037921\n",
       "St. Bernardus Abt 12                          1.033643\n",
       "La Fin Du Monde                               1.033199\n",
       "                                                ...   \n",
       "Samuel Adams Cranberry Lambic                 0.772289\n",
       "Dark Lord Imperial Stout                      0.768806\n",
       "Supplication                                  0.764746\n",
       "Raging Bitch Belgian-Style IPA                0.759203\n",
       "Founders Porter                               0.756509\n",
       "Furious                                       0.754938\n",
       "Stella Artois                                 0.752127\n",
       "Left Hand Milk Stout                          0.751130\n",
       "Yuengling Traditional Lager                   0.748334\n",
       "New Holland Dragon's Milk Oak Barrel Ale      0.743450\n",
       "Terrapin Coffee Oatmeal Imperial Stout        0.737156\n",
       "Red Stripe Jamaican Lager                     0.728494\n",
       "Guinness Extra Stout (Original)               0.725584\n",
       "The Abyss                                     0.723027\n",
       "Heineken Lager Beer                           0.712001\n",
       "Samuel Adams Cherry Wheat                     0.707428\n",
       "Newcastle Brown Ale                           0.706250\n",
       "Murphy's Irish Stout                          0.702149\n",
       "Boddingtons Pub Ale                           0.694475\n",
       "Hobgoblin                                     0.684426\n",
       "Shiner Bock                                   0.667524\n",
       "Pabst Blue Ribbon (PBR)                       0.663859\n",
       "Leinenkugel's Sunset Wheat                    0.656191\n",
       "Budweiser                                     0.641402\n",
       "Vanilla Porter                                0.618904\n",
       "Miller Lite                                   0.613775\n",
       "Bud Light                                     0.605462\n",
       "Corona Extra                                  0.593375\n",
       "Miller High Life                              0.571078\n",
       "Coors Light                                   0.561506\n",
       "dtype: float64"
      ]
     },
     "execution_count": 34,
     "metadata": {},
     "output_type": "execute_result"
    }
   ],
   "source": [
    "beers_summed = beers_summed.order(ascending=False)\n",
    "beers_summed"
   ]
  },
  {
   "cell_type": "markdown",
   "metadata": {},
   "source": [
    "Filter out the beers used as input and transform to list"
   ]
  },
  {
   "cell_type": "code",
   "execution_count": 35,
   "metadata": {
    "collapsed": false
   },
   "outputs": [
    {
     "data": {
      "text/plain": [
       "['HopDevil Ale',\n",
       " '90 Minute IPA',\n",
       " 'Stone Ruination IPA',\n",
       " 'Hop Rod Rye',\n",
       " 'Stone IPA (India Pale Ale)']"
      ]
     },
     "execution_count": 35,
     "metadata": {},
     "output_type": "execute_result"
    }
   ],
   "source": [
    "ranked_beers = beers_summed.index[beers_summed.index.isin(beers_i_like)==False]\n",
    "ranked_beers = ranked_beers.tolist()\n",
    "ranked_beers[:5]"
   ]
  },
  {
   "cell_type": "markdown",
   "metadata": {},
   "source": [
    "### Pair Programming!\n",
    "\n",
    "Define a function that does what we just did for an arbitrary input list of beers. it should also receive the maximum number of beers requested n as optional parameter."
   ]
  },
  {
   "cell_type": "code",
   "execution_count": 45,
   "metadata": {
    "collapsed": false
   },
   "outputs": [],
   "source": [
    "def beer_finder(beers,n):\n",
    "    if beers_summed.index.isin(beers)\n",
    "        beers_summed = np.sum(dists[beers], axis=1)\n",
    "        beers_summed = beers_summed.order(ascending=False)\n",
    "        ranked_beers = beers_summed.index[beers_summed.index.isin(beers)==False]\n",
    "        return list(ranked_beers[:n])"
   ]
  },
  {
   "cell_type": "markdown",
   "metadata": {},
   "source": [
    "Test your function. Find the 10 beers most similar to \"120 Minute IPA\""
   ]
  },
  {
   "cell_type": "code",
   "execution_count": 60,
   "metadata": {
    "collapsed": false
   },
   "outputs": [
    {
     "data": {
      "text/plain": [
       "array([False, False, False, False, False, False, False, False, False,\n",
       "       False, False, False, False, False, False, False, False, False,\n",
       "       False, False, False, False, False, False, False, False, False,\n",
       "       False, False, False, False, False, False, False, False, False,\n",
       "       False, False, False, False, False, False, False, False, False,\n",
       "       False, False, False, False, False, False, False, False, False,\n",
       "       False, False, False, False, False, False, False, False, False,\n",
       "       False, False, False, False, False, False, False, False, False,\n",
       "       False, False, False, False, False, False, False, False, False,\n",
       "       False, False, False, False, False, False, False, False, False,\n",
       "       False, False, False, False, False, False, False, False, False,\n",
       "       False, False, False, False, False, False, False, False, False,\n",
       "       False, False, False, False, False, False, False, False, False,\n",
       "       False, False, False, False, False, False, False, False, False,\n",
       "       False, False, False, False, False, False, False, False, False,\n",
       "       False, False, False, False, False, False, False, False, False,\n",
       "       False, False, False, False, False, False, False, False, False,\n",
       "       False, False, False, False, False, False, False, False, False,\n",
       "       False, False, False, False, False, False, False, False, False,\n",
       "       False, False, False, False, False, False, False, False, False,\n",
       "       False, False, False, False, False, False, False, False, False,\n",
       "       False, False, False, False, False, False, False, False, False,\n",
       "       False, False, False, False, False, False, False, False, False,\n",
       "       False, False, False, False, False, False, False, False, False,\n",
       "       False, False, False, False, False, False, False, False, False,\n",
       "       False, False, False, False, False, False, False, False, False,\n",
       "       False, False, False, False, False, False, False, False, False,\n",
       "       False, False, False,  True, False, False, False], dtype=bool)"
      ]
     },
     "execution_count": 60,
     "metadata": {},
     "output_type": "execute_result"
    }
   ],
   "source": [
    "test_beers = [\"Bud Light\", \"Amstel Light\"]\n",
    "beers_summed.index.isin(test_beers)"
   ]
  },
  {
   "cell_type": "code",
   "execution_count": 46,
   "metadata": {
    "collapsed": false
   },
   "outputs": [
    {
     "name": "stderr",
     "output_type": "stream",
     "text": [
      "/Applications/anaconda/lib/python2.7/site-packages/ipykernel/__main__.py:3: FutureWarning: order is deprecated, use sort_values(...)\n",
      "  app.launch_new_instance()\n"
     ]
    },
    {
     "data": {
      "text/plain": [
       "['World Wide Stout',\n",
       " '90 Minute IPA',\n",
       " 'Double Bastard Ale',\n",
       " 'Stone Ruination IPA',\n",
       " 'Stone Imperial Russian Stout',\n",
       " 'Storm King Stout',\n",
       " '60 Minute IPA',\n",
       " 'Oaked Arrogant Bastard Ale',\n",
       " 'Sierra Nevada Bigfoot Barleywine Style Ale',\n",
       " 'Brooklyn Black Chocolate Stout']"
      ]
     },
     "execution_count": 46,
     "metadata": {},
     "output_type": "execute_result"
    }
   ],
   "source": [
    "beer_finder(['120 Minute IPA'],10)"
   ]
  },
  {
   "cell_type": "markdown",
   "metadata": {},
   "source": [
    "Try again with the 10 beers most similar to [\"Coors Light\", \"Bud Light\", \"Amstel Light\"]"
   ]
  },
  {
   "cell_type": "code",
   "execution_count": 47,
   "metadata": {
    "collapsed": false
   },
   "outputs": [
    {
     "ename": "KeyError",
     "evalue": "\"['Amstel Light'] not in index\"",
     "output_type": "error",
     "traceback": [
      "\u001b[0;31m---------------------------------------------------------------------------\u001b[0m",
      "\u001b[0;31mKeyError\u001b[0m                                  Traceback (most recent call last)",
      "\u001b[0;32m<ipython-input-47-9d02be5dfe17>\u001b[0m in \u001b[0;36m<module>\u001b[0;34m()\u001b[0m\n\u001b[0;32m----> 1\u001b[0;31m \u001b[0mbeer_finder\u001b[0m\u001b[0;34m(\u001b[0m\u001b[0;34m[\u001b[0m\u001b[0;34m\"Coors Light\"\u001b[0m\u001b[0;34m,\u001b[0m \u001b[0;34m\"Bud Light\"\u001b[0m\u001b[0;34m,\u001b[0m \u001b[0;34m\"Amstel Light\"\u001b[0m\u001b[0;34m]\u001b[0m\u001b[0;34m,\u001b[0m\u001b[0;36m10\u001b[0m\u001b[0;34m)\u001b[0m\u001b[0;34m\u001b[0m\u001b[0m\n\u001b[0m",
      "\u001b[0;32m<ipython-input-45-eafd2394603d>\u001b[0m in \u001b[0;36mbeer_finder\u001b[0;34m(beers, n)\u001b[0m\n\u001b[1;32m      1\u001b[0m \u001b[0;32mdef\u001b[0m \u001b[0mbeer_finder\u001b[0m\u001b[0;34m(\u001b[0m\u001b[0mbeers\u001b[0m\u001b[0;34m,\u001b[0m\u001b[0mn\u001b[0m\u001b[0;34m)\u001b[0m\u001b[0;34m:\u001b[0m\u001b[0;34m\u001b[0m\u001b[0m\n\u001b[0;32m----> 2\u001b[0;31m     \u001b[0mbeers_summed\u001b[0m \u001b[0;34m=\u001b[0m \u001b[0mnp\u001b[0m\u001b[0;34m.\u001b[0m\u001b[0msum\u001b[0m\u001b[0;34m(\u001b[0m\u001b[0mdists\u001b[0m\u001b[0;34m[\u001b[0m\u001b[0mbeers\u001b[0m\u001b[0;34m]\u001b[0m\u001b[0;34m,\u001b[0m \u001b[0maxis\u001b[0m\u001b[0;34m=\u001b[0m\u001b[0;36m1\u001b[0m\u001b[0;34m)\u001b[0m\u001b[0;34m\u001b[0m\u001b[0m\n\u001b[0m\u001b[1;32m      3\u001b[0m     \u001b[0mbeers_summed\u001b[0m \u001b[0;34m=\u001b[0m \u001b[0mbeers_summed\u001b[0m\u001b[0;34m.\u001b[0m\u001b[0morder\u001b[0m\u001b[0;34m(\u001b[0m\u001b[0mascending\u001b[0m\u001b[0;34m=\u001b[0m\u001b[0mFalse\u001b[0m\u001b[0;34m)\u001b[0m\u001b[0;34m\u001b[0m\u001b[0m\n\u001b[1;32m      4\u001b[0m     \u001b[0mranked_beers\u001b[0m \u001b[0;34m=\u001b[0m \u001b[0mbeers_summed\u001b[0m\u001b[0;34m.\u001b[0m\u001b[0mindex\u001b[0m\u001b[0;34m[\u001b[0m\u001b[0mbeers_summed\u001b[0m\u001b[0;34m.\u001b[0m\u001b[0mindex\u001b[0m\u001b[0;34m.\u001b[0m\u001b[0misin\u001b[0m\u001b[0;34m(\u001b[0m\u001b[0mbeers\u001b[0m\u001b[0;34m)\u001b[0m\u001b[0;34m==\u001b[0m\u001b[0mFalse\u001b[0m\u001b[0;34m]\u001b[0m\u001b[0;34m\u001b[0m\u001b[0m\n\u001b[1;32m      5\u001b[0m     \u001b[0;32mreturn\u001b[0m \u001b[0mlist\u001b[0m\u001b[0;34m(\u001b[0m\u001b[0mranked_beers\u001b[0m\u001b[0;34m[\u001b[0m\u001b[0;34m:\u001b[0m\u001b[0mn\u001b[0m\u001b[0;34m]\u001b[0m\u001b[0;34m)\u001b[0m\u001b[0;34m\u001b[0m\u001b[0m\n",
      "\u001b[0;32m/Applications/anaconda/lib/python2.7/site-packages/pandas/core/frame.pyc\u001b[0m in \u001b[0;36m__getitem__\u001b[0;34m(self, key)\u001b[0m\n\u001b[1;32m   1961\u001b[0m         \u001b[0;32mif\u001b[0m \u001b[0misinstance\u001b[0m\u001b[0;34m(\u001b[0m\u001b[0mkey\u001b[0m\u001b[0;34m,\u001b[0m \u001b[0;34m(\u001b[0m\u001b[0mSeries\u001b[0m\u001b[0;34m,\u001b[0m \u001b[0mnp\u001b[0m\u001b[0;34m.\u001b[0m\u001b[0mndarray\u001b[0m\u001b[0;34m,\u001b[0m \u001b[0mIndex\u001b[0m\u001b[0;34m,\u001b[0m \u001b[0mlist\u001b[0m\u001b[0;34m)\u001b[0m\u001b[0;34m)\u001b[0m\u001b[0;34m:\u001b[0m\u001b[0;34m\u001b[0m\u001b[0m\n\u001b[1;32m   1962\u001b[0m             \u001b[0;31m# either boolean or fancy integer index\u001b[0m\u001b[0;34m\u001b[0m\u001b[0;34m\u001b[0m\u001b[0m\n\u001b[0;32m-> 1963\u001b[0;31m             \u001b[0;32mreturn\u001b[0m \u001b[0mself\u001b[0m\u001b[0;34m.\u001b[0m\u001b[0m_getitem_array\u001b[0m\u001b[0;34m(\u001b[0m\u001b[0mkey\u001b[0m\u001b[0;34m)\u001b[0m\u001b[0;34m\u001b[0m\u001b[0m\n\u001b[0m\u001b[1;32m   1964\u001b[0m         \u001b[0;32melif\u001b[0m \u001b[0misinstance\u001b[0m\u001b[0;34m(\u001b[0m\u001b[0mkey\u001b[0m\u001b[0;34m,\u001b[0m \u001b[0mDataFrame\u001b[0m\u001b[0;34m)\u001b[0m\u001b[0;34m:\u001b[0m\u001b[0;34m\u001b[0m\u001b[0m\n\u001b[1;32m   1965\u001b[0m             \u001b[0;32mreturn\u001b[0m \u001b[0mself\u001b[0m\u001b[0;34m.\u001b[0m\u001b[0m_getitem_frame\u001b[0m\u001b[0;34m(\u001b[0m\u001b[0mkey\u001b[0m\u001b[0;34m)\u001b[0m\u001b[0;34m\u001b[0m\u001b[0m\n",
      "\u001b[0;32m/Applications/anaconda/lib/python2.7/site-packages/pandas/core/frame.pyc\u001b[0m in \u001b[0;36m_getitem_array\u001b[0;34m(self, key)\u001b[0m\n\u001b[1;32m   2005\u001b[0m             \u001b[0;32mreturn\u001b[0m \u001b[0mself\u001b[0m\u001b[0;34m.\u001b[0m\u001b[0mtake\u001b[0m\u001b[0;34m(\u001b[0m\u001b[0mindexer\u001b[0m\u001b[0;34m,\u001b[0m \u001b[0maxis\u001b[0m\u001b[0;34m=\u001b[0m\u001b[0;36m0\u001b[0m\u001b[0;34m,\u001b[0m \u001b[0mconvert\u001b[0m\u001b[0;34m=\u001b[0m\u001b[0mFalse\u001b[0m\u001b[0;34m)\u001b[0m\u001b[0;34m\u001b[0m\u001b[0m\n\u001b[1;32m   2006\u001b[0m         \u001b[0;32melse\u001b[0m\u001b[0;34m:\u001b[0m\u001b[0;34m\u001b[0m\u001b[0m\n\u001b[0;32m-> 2007\u001b[0;31m             \u001b[0mindexer\u001b[0m \u001b[0;34m=\u001b[0m \u001b[0mself\u001b[0m\u001b[0;34m.\u001b[0m\u001b[0mix\u001b[0m\u001b[0;34m.\u001b[0m\u001b[0m_convert_to_indexer\u001b[0m\u001b[0;34m(\u001b[0m\u001b[0mkey\u001b[0m\u001b[0;34m,\u001b[0m \u001b[0maxis\u001b[0m\u001b[0;34m=\u001b[0m\u001b[0;36m1\u001b[0m\u001b[0;34m)\u001b[0m\u001b[0;34m\u001b[0m\u001b[0m\n\u001b[0m\u001b[1;32m   2008\u001b[0m             \u001b[0;32mreturn\u001b[0m \u001b[0mself\u001b[0m\u001b[0;34m.\u001b[0m\u001b[0mtake\u001b[0m\u001b[0;34m(\u001b[0m\u001b[0mindexer\u001b[0m\u001b[0;34m,\u001b[0m \u001b[0maxis\u001b[0m\u001b[0;34m=\u001b[0m\u001b[0;36m1\u001b[0m\u001b[0;34m,\u001b[0m \u001b[0mconvert\u001b[0m\u001b[0;34m=\u001b[0m\u001b[0mTrue\u001b[0m\u001b[0;34m)\u001b[0m\u001b[0;34m\u001b[0m\u001b[0m\n\u001b[1;32m   2009\u001b[0m \u001b[0;34m\u001b[0m\u001b[0m\n",
      "\u001b[0;32m/Applications/anaconda/lib/python2.7/site-packages/pandas/core/indexing.pyc\u001b[0m in \u001b[0;36m_convert_to_indexer\u001b[0;34m(self, obj, axis, is_setter)\u001b[0m\n\u001b[1;32m   1148\u001b[0m                 \u001b[0mmask\u001b[0m \u001b[0;34m=\u001b[0m \u001b[0mcheck\u001b[0m \u001b[0;34m==\u001b[0m \u001b[0;34m-\u001b[0m\u001b[0;36m1\u001b[0m\u001b[0;34m\u001b[0m\u001b[0m\n\u001b[1;32m   1149\u001b[0m                 \u001b[0;32mif\u001b[0m \u001b[0mmask\u001b[0m\u001b[0;34m.\u001b[0m\u001b[0many\u001b[0m\u001b[0;34m(\u001b[0m\u001b[0;34m)\u001b[0m\u001b[0;34m:\u001b[0m\u001b[0;34m\u001b[0m\u001b[0m\n\u001b[0;32m-> 1150\u001b[0;31m                     \u001b[0;32mraise\u001b[0m \u001b[0mKeyError\u001b[0m\u001b[0;34m(\u001b[0m\u001b[0;34m'%s not in index'\u001b[0m \u001b[0;34m%\u001b[0m \u001b[0mobjarr\u001b[0m\u001b[0;34m[\u001b[0m\u001b[0mmask\u001b[0m\u001b[0;34m]\u001b[0m\u001b[0;34m)\u001b[0m\u001b[0;34m\u001b[0m\u001b[0m\n\u001b[0m\u001b[1;32m   1151\u001b[0m \u001b[0;34m\u001b[0m\u001b[0m\n\u001b[1;32m   1152\u001b[0m                 \u001b[0;32mreturn\u001b[0m \u001b[0m_values_from_object\u001b[0m\u001b[0;34m(\u001b[0m\u001b[0mindexer\u001b[0m\u001b[0;34m)\u001b[0m\u001b[0;34m\u001b[0m\u001b[0m\n",
      "\u001b[0;31mKeyError\u001b[0m: \"['Amstel Light'] not in index\""
     ]
    }
   ],
   "source": [
    "beer_finder([\"Coors Light\", \"Bud Light\", \"Amstel Light\"],10)"
   ]
  },
  {
   "cell_type": "markdown",
   "metadata": {},
   "source": [
    "Optional: register an account on yhat and deploy your model following the instructions [here](https://docs.yhathq.com/python/examples/beer-recommender) and [here](http://nbviewer.ipython.org/gist/glamp/20a18d52c539b87de2af)"
   ]
  },
  {
   "cell_type": "markdown",
   "metadata": {},
   "source": [
    "## Recsys\n",
    "\n",
    "A python library for implementing a recommender system. If you'd like to, I recommend you explore this project. It's an efficient way to get a recommendation engine off the ground. The example below uses SVD."
   ]
  },
  {
   "cell_type": "code",
   "execution_count": null,
   "metadata": {
    "collapsed": false
   },
   "outputs": [],
   "source": [
    "\"\"\"\n",
    "##install python-recsys\n",
    "\n",
    "### first install dependencies\n",
    "\n",
    "pip install csc-pysparse networkx divisi2\n",
    "\n",
    "### then install recsys\n",
    "git clone https://github.com/python-recsys/python-recsys.git\n",
    "cd python-recsys/\n",
    "\n",
    "python setup.py install\n",
    "\"\"\""
   ]
  },
  {
   "cell_type": "markdown",
   "metadata": {},
   "source": [
    "Load recsys.algotihm, set VERBOSE = True import SVD class"
   ]
  },
  {
   "cell_type": "code",
   "execution_count": 75,
   "metadata": {
    "collapsed": false
   },
   "outputs": [
    {
     "name": "stdout",
     "output_type": "stream",
     "text": [
      "usage: install [-bCcpSsv] [-B suffix] [-f flags] [-g group] [-m mode]\r\n",
      "               [-o owner] file1 file2\r\n",
      "       install [-bCcpSsv] [-B suffix] [-f flags] [-g group] [-m mode]\r\n",
      "               [-o owner] file1 ... fileN directory\r\n",
      "       install -d [-v] [-g group] [-m mode] [-o owner] directory ...\r\n"
     ]
    }
   ],
   "source": [
    "! install python-recsys"
   ]
  },
  {
   "cell_type": "code",
   "execution_count": 76,
   "metadata": {
    "collapsed": false
   },
   "outputs": [
    {
     "name": "stdout",
     "output_type": "stream",
     "text": [
      "Requirement already satisfied (use --upgrade to upgrade): csc-pysparse in /Applications/anaconda/lib/python2.7/site-packages\r\n",
      "Requirement already satisfied (use --upgrade to upgrade): networkx in /Applications/anaconda/lib/python2.7/site-packages\r\n",
      "Requirement already satisfied (use --upgrade to upgrade): divisi2 in /Applications/anaconda/lib/python2.7/site-packages\r\n",
      "Requirement already satisfied (use --upgrade to upgrade): decorator>=3.4.0 in /Applications/anaconda/lib/python2.7/site-packages (from networkx)\r\n",
      "Requirement already satisfied (use --upgrade to upgrade): csc-utils>=0.6.1 in /Applications/anaconda/lib/python2.7/site-packages (from divisi2)\r\n"
     ]
    }
   ],
   "source": [
    "! pip install csc-pysparse networkx divisi2\n"
   ]
  },
  {
   "cell_type": "code",
   "execution_count": 77,
   "metadata": {
    "collapsed": false
   },
   "outputs": [
    {
     "name": "stdout",
     "output_type": "stream",
     "text": [
      "Cloning into 'python-recsys'...\n",
      "remote: Counting objects: 276, done.\u001b[K\n",
      "remote: Total 276 (delta 0), reused 0 (delta 0), pack-reused 276\u001b[K\n",
      "Receiving objects: 100% (276/276), 75.30 KiB | 0 bytes/s, done.\n",
      "Resolving deltas: 100% (139/139), done.\n",
      "Checking connectivity... done.\n"
     ]
    }
   ],
   "source": [
    "! git clone https://github.com/python-recsys/python-recsys.git"
   ]
  },
  {
   "cell_type": "code",
   "execution_count": 78,
   "metadata": {
    "collapsed": true
   },
   "outputs": [],
   "source": [
    "! cd python-recsys/"
   ]
  },
  {
   "cell_type": "code",
   "execution_count": 79,
   "metadata": {
    "collapsed": false
   },
   "outputs": [
    {
     "name": "stdout",
     "output_type": "stream",
     "text": [
      "python: can't open file 'setup.py': [Errno 2] No such file or directory\r\n"
     ]
    }
   ],
   "source": [
    "! python setup.py install"
   ]
  },
  {
   "cell_type": "code",
   "execution_count": 70,
   "metadata": {
    "collapsed": false
   },
   "outputs": [
    {
     "name": "stdout",
     "output_type": "stream",
     "text": [
      "/Users/derekhalliwell/Documents/Python_Projects/General_Assembly/DAT_SF_18/labs/lab_16\r\n"
     ]
    }
   ],
   "source": []
  },
  {
   "cell_type": "code",
   "execution_count": 84,
   "metadata": {
    "collapsed": false
   },
   "outputs": [
    {
     "ename": "ImportError",
     "evalue": "No module named recsys.algorithm",
     "output_type": "error",
     "traceback": [
      "\u001b[0;31m---------------------------------------------------------------------------\u001b[0m",
      "\u001b[0;31mImportError\u001b[0m                               Traceback (most recent call last)",
      "\u001b[0;32m<ipython-input-84-c6ce7e40edc0>\u001b[0m in \u001b[0;36m<module>\u001b[0;34m()\u001b[0m\n\u001b[0;32m----> 1\u001b[0;31m \u001b[0;32mimport\u001b[0m \u001b[0mrecsys\u001b[0m\u001b[0;34m.\u001b[0m\u001b[0malgorithm\u001b[0m\u001b[0;34m\u001b[0m\u001b[0m\n\u001b[0m\u001b[1;32m      2\u001b[0m \u001b[0mrecsys\u001b[0m\u001b[0;34m.\u001b[0m\u001b[0malgorithm\u001b[0m\u001b[0;34m.\u001b[0m\u001b[0mVERBOSE\u001b[0m \u001b[0;34m=\u001b[0m \u001b[0mTrue\u001b[0m\u001b[0;34m\u001b[0m\u001b[0m\n\u001b[1;32m      3\u001b[0m \u001b[0;32mfrom\u001b[0m \u001b[0mrecsys\u001b[0m\u001b[0;34m.\u001b[0m\u001b[0malgorithm\u001b[0m\u001b[0;34m.\u001b[0m\u001b[0mfactorize\u001b[0m \u001b[0;32mimport\u001b[0m \u001b[0mSVD\u001b[0m\u001b[0;34m\u001b[0m\u001b[0m\n",
      "\u001b[0;31mImportError\u001b[0m: No module named recsys.algorithm"
     ]
    }
   ],
   "source": [
    "import recsys.algorithm\n",
    "recsys.algorithm.VERBOSE = True\n",
    "from recsys.algorithm.factorize import SVD"
   ]
  },
  {
   "cell_type": "markdown",
   "metadata": {},
   "source": [
    "Let's look at the files"
   ]
  },
  {
   "cell_type": "code",
   "execution_count": null,
   "metadata": {
    "collapsed": false
   },
   "outputs": [],
   "source": [
    "! ls ../data/movielens/"
   ]
  },
  {
   "cell_type": "markdown",
   "metadata": {},
   "source": [
    "Import 'movies.dat' to a 'movies' pandas dataframe. Make sure you name the columns, use the correct separator and define the index."
   ]
  },
  {
   "cell_type": "code",
   "execution_count": null,
   "metadata": {
    "collapsed": false
   },
   "outputs": [],
   "source": [
    "movies = pd.read_table('../data/movielens/movies.dat', sep='::', engine='python',\n",
    "                       names= ['ITEMID', 'Title', 'Genres'], index_col= 'ITEMID')"
   ]
  },
  {
   "cell_type": "code",
   "execution_count": null,
   "metadata": {
    "collapsed": false
   },
   "outputs": [],
   "source": [
    "movies.head()"
   ]
  },
  {
   "cell_type": "markdown",
   "metadata": {},
   "source": [
    "Import 'ratings.dat' to a 'ratings' pandas dataframe. Make sure you name the columns, use the correct separator."
   ]
  },
  {
   "cell_type": "code",
   "execution_count": null,
   "metadata": {
    "collapsed": false
   },
   "outputs": [],
   "source": [
    "ratings = pd.read_table('../data/movielens/ratings.dat', sep='::', engine='python',\n",
    "                        names= ['UserID','MovieID','Rating','Timestamp'])"
   ]
  },
  {
   "cell_type": "code",
   "execution_count": null,
   "metadata": {
    "collapsed": false
   },
   "outputs": [],
   "source": [
    "ratings.head()"
   ]
  },
  {
   "cell_type": "markdown",
   "metadata": {},
   "source": [
    "Initialize an SVD instance"
   ]
  },
  {
   "cell_type": "code",
   "execution_count": null,
   "metadata": {
    "collapsed": false
   },
   "outputs": [],
   "source": [
    "svd = SVD()"
   ]
  },
  {
   "cell_type": "markdown",
   "metadata": {},
   "source": [
    "Populate it with the data from the ratings dataset, using the built in load_data method"
   ]
  },
  {
   "cell_type": "code",
   "execution_count": null,
   "metadata": {
    "collapsed": false
   },
   "outputs": [],
   "source": [
    "svd.load_data(filename='../data/movielens/ratings.dat', sep='::', format={'col':0, 'row':1, 'value':2, 'ids': int})"
   ]
  },
  {
   "cell_type": "markdown",
   "metadata": {},
   "source": [
    "Compute SVD\n",
    "\n",
    "$M=U \\Sigma V^T$:"
   ]
  },
  {
   "cell_type": "code",
   "execution_count": null,
   "metadata": {
    "collapsed": false
   },
   "outputs": [],
   "source": [
    "k = 100\n",
    "svd.compute(k=k, min_values=10, pre_normalize=None, mean_center=True, post_normalize=True)"
   ]
  },
  {
   "cell_type": "markdown",
   "metadata": {},
   "source": [
    "you can also save the output SVD model (in a zip file)"
   ]
  },
  {
   "cell_type": "code",
   "execution_count": null,
   "metadata": {
    "collapsed": false
   },
   "outputs": [],
   "source": [
    "# svd.compute(k=k, min_values=10, pre_normalize=None, mean_center=True, post_normalize=True, savefile='/tmp/movielens')"
   ]
  },
  {
   "cell_type": "markdown",
   "metadata": {},
   "source": [
    "Reload a saved model:"
   ]
  },
  {
   "cell_type": "code",
   "execution_count": null,
   "metadata": {
    "collapsed": false
   },
   "outputs": [],
   "source": [
    "# svd2 = SVD(filename='/tmp/movielens')"
   ]
  },
  {
   "cell_type": "markdown",
   "metadata": {},
   "source": [
    "Find the ITEMID number for \"Toy Story (1995)\""
   ]
  },
  {
   "cell_type": "code",
   "execution_count": null,
   "metadata": {
    "collapsed": false
   },
   "outputs": [],
   "source": [
    "movies[movies.Title == \"Toy Story (1995)\"]"
   ]
  },
  {
   "cell_type": "markdown",
   "metadata": {},
   "source": [
    "Find the ITEMID number for \"Bug's Life, A (1998)\""
   ]
  },
  {
   "cell_type": "code",
   "execution_count": null,
   "metadata": {
    "collapsed": false
   },
   "outputs": [],
   "source": [
    "movies[movies.Title == \"Bug's Life, A (1998)\"]"
   ]
  },
  {
   "cell_type": "markdown",
   "metadata": {},
   "source": [
    "Compute similarity between the two movies"
   ]
  },
  {
   "cell_type": "code",
   "execution_count": null,
   "metadata": {
    "collapsed": false
   },
   "outputs": [],
   "source": [
    "ITEMID1 = 1    # Toy Story (1995)\n",
    "ITEMID2 = 2355 # A bug's life (1998)\n",
    "print svd.similarity(ITEMID1, ITEMID2)\n",
    "# print svd2.similarity(ITEMID1, ITEMID2) to check"
   ]
  },
  {
   "cell_type": "markdown",
   "metadata": {},
   "source": [
    "Get movies similar to Toy Story"
   ]
  },
  {
   "cell_type": "code",
   "execution_count": null,
   "metadata": {
    "collapsed": false
   },
   "outputs": [],
   "source": [
    "svd.similar(ITEMID1)"
   ]
  },
  {
   "cell_type": "code",
   "execution_count": null,
   "metadata": {
    "collapsed": false
   },
   "outputs": [],
   "source": [
    "movies[movies.index == 3114]"
   ]
  },
  {
   "cell_type": "markdown",
   "metadata": {},
   "source": [
    "Predict rating for a given user and movie, $\\hat{r}_{ui}$"
   ]
  },
  {
   "cell_type": "code",
   "execution_count": null,
   "metadata": {
    "collapsed": false
   },
   "outputs": [],
   "source": [
    "MIN_RATING = 0.0\n",
    "MAX_RATING = 5.0\n",
    "ITEMID = 1\n",
    "USERID = 1\n",
    "svd.predict(ITEMID, USERID, MIN_RATING, MAX_RATING)"
   ]
  },
  {
   "cell_type": "code",
   "execution_count": null,
   "metadata": {
    "collapsed": false
   },
   "outputs": [],
   "source": [
    "svd.get_matrix().value(ITEMID, USERID)"
   ]
  },
  {
   "cell_type": "markdown",
   "metadata": {},
   "source": [
    "Recommend non rated movies to a user"
   ]
  },
  {
   "cell_type": "code",
   "execution_count": null,
   "metadata": {
    "collapsed": false
   },
   "outputs": [],
   "source": [
    "svd.recommend(USERID, is_row=False)"
   ]
  },
  {
   "cell_type": "markdown",
   "metadata": {},
   "source": [
    "Which users should see Toy Story? (e.g. which users -that have not rated Toy Story- would give it a high rating?)"
   ]
  },
  {
   "cell_type": "code",
   "execution_count": null,
   "metadata": {
    "collapsed": false
   },
   "outputs": [],
   "source": [
    "svd.recommend(ITEMID)"
   ]
  },
  {
   "cell_type": "markdown",
   "metadata": {},
   "source": [
    "Find out more here: [https://github.com/ocelma/python-recsys](https://github.com/ocelma/python-recsys)"
   ]
  }
 ],
 "metadata": {
  "kernelspec": {
   "display_name": "Python 2",
   "language": "python",
   "name": "python2"
  },
  "language_info": {
   "codemirror_mode": {
    "name": "ipython",
    "version": 2
   },
   "file_extension": ".py",
   "mimetype": "text/x-python",
   "name": "python",
   "nbconvert_exporter": "python",
   "pygments_lexer": "ipython2",
   "version": "2.7.11"
  }
 },
 "nbformat": 4,
 "nbformat_minor": 0
}
